{
 "cells": [
  {
   "cell_type": "code",
   "execution_count": 7,
   "id": "a979c42c",
   "metadata": {},
   "outputs": [],
   "source": [
    "df=pd.read_csv(\"data/countyoutflow1920.csv\")\n",
    "df=pd.read_csv(\"data/countyinflow1920.csv\")\n",
    "df=pd.read_csv(\"data/stateinflow1920.csv\")\n",
    "df=pd.read_csv(\"data/stateoutflow1920.csv\")"
   ]
  },
  {
   "cell_type": "code",
   "execution_count": 3,
   "id": "0e23f306",
   "metadata": {},
   "outputs": [],
   "source": [
    "import pandas as pd\n"
   ]
  },
  {
   "cell_type": "code",
   "execution_count": null,
   "id": "a9a8f74d",
   "metadata": {},
   "outputs": [],
   "source": []
  },
  {
   "cell_type": "code",
   "execution_count": null,
   "id": "de4d8125",
   "metadata": {},
   "outputs": [],
   "source": []
  }
 ],
 "metadata": {
  "kernelspec": {
   "display_name": "Python 3 (ipykernel)",
   "language": "python",
   "name": "python3"
  },
  "language_info": {
   "codemirror_mode": {
    "name": "ipython",
    "version": 3
   },
   "file_extension": ".py",
   "mimetype": "text/x-python",
   "name": "python",
   "nbconvert_exporter": "python",
   "pygments_lexer": "ipython3",
   "version": "3.9.13"
  }
 },
 "nbformat": 4,
 "nbformat_minor": 5
}
